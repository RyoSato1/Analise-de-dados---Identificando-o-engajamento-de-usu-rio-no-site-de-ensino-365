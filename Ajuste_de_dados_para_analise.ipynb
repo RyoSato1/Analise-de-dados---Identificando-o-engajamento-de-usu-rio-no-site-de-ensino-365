{
 "cells": [
  {
   "cell_type": "code",
   "execution_count": 37,
   "id": "515d820b",
   "metadata": {
    "ExecuteTime": {
     "end_time": "2024-02-05T08:55:46.440160Z",
     "start_time": "2024-02-05T08:55:46.432158Z"
    }
   },
   "outputs": [],
   "source": [
    "import pandas as pd\n",
    "import seaborn as sns\n",
    "import matplotlib.pyplot as plt"
   ]
  },
  {
   "cell_type": "markdown",
   "id": "d4917e8c",
   "metadata": {},
   "source": [
    "## Conjunto de dados"
   ]
  },
  {
   "cell_type": "code",
   "execution_count": 38,
   "id": "57fd3105",
   "metadata": {
    "ExecuteTime": {
     "end_time": "2024-02-05T08:55:46.819151Z",
     "start_time": "2024-02-05T08:55:46.806148Z"
    }
   },
   "outputs": [],
   "source": [
    "minutes_watched_2021_paid_0 = pd.read_csv(r'database\\minutes_watched_2021_paid_0.csv')\n",
    "minutes_watched_2022_paid_0 = pd.read_csv(r'database\\minutes_watched_2022_paid_0.csv')\n",
    "minutes_watched_2021_paid_1 = pd.read_csv(r'database\\minutes_watched_2021_paid_1.csv')\n",
    "minutes_watched_2022_paid_1 = pd.read_csv(r'database\\minutes_watched_2022_paid_1.csv')\n"
   ]
  },
  {
   "cell_type": "code",
   "execution_count": 39,
   "id": "88c94dab",
   "metadata": {
    "ExecuteTime": {
     "end_time": "2024-02-05T08:55:46.962200Z",
     "start_time": "2024-02-05T08:55:46.954198Z"
    }
   },
   "outputs": [
    {
     "data": {
      "text/html": [
       "<div>\n",
       "<style scoped>\n",
       "    .dataframe tbody tr th:only-of-type {\n",
       "        vertical-align: middle;\n",
       "    }\n",
       "\n",
       "    .dataframe tbody tr th {\n",
       "        vertical-align: top;\n",
       "    }\n",
       "\n",
       "    .dataframe thead th {\n",
       "        text-align: right;\n",
       "    }\n",
       "</style>\n",
       "<table border=\"1\" class=\"dataframe\">\n",
       "  <thead>\n",
       "    <tr style=\"text-align: right;\">\n",
       "      <th></th>\n",
       "      <th>student_id</th>\n",
       "      <th>minutes_watched</th>\n",
       "      <th>paid_in_q2</th>\n",
       "    </tr>\n",
       "  </thead>\n",
       "  <tbody>\n",
       "    <tr>\n",
       "      <th>0</th>\n",
       "      <td>66</td>\n",
       "      <td>0.7167</td>\n",
       "      <td>0</td>\n",
       "    </tr>\n",
       "    <tr>\n",
       "      <th>1</th>\n",
       "      <td>132</td>\n",
       "      <td>71.9167</td>\n",
       "      <td>0</td>\n",
       "    </tr>\n",
       "    <tr>\n",
       "      <th>2</th>\n",
       "      <td>560</td>\n",
       "      <td>1.3667</td>\n",
       "      <td>0</td>\n",
       "    </tr>\n",
       "    <tr>\n",
       "      <th>3</th>\n",
       "      <td>606</td>\n",
       "      <td>18.1167</td>\n",
       "      <td>0</td>\n",
       "    </tr>\n",
       "    <tr>\n",
       "      <th>4</th>\n",
       "      <td>615</td>\n",
       "      <td>18.9333</td>\n",
       "      <td>0</td>\n",
       "    </tr>\n",
       "  </tbody>\n",
       "</table>\n",
       "</div>"
      ],
      "text/plain": [
       "   student_id  minutes_watched  paid_in_q2\n",
       "0          66           0.7167           0\n",
       "1         132          71.9167           0\n",
       "2         560           1.3667           0\n",
       "3         606          18.1167           0\n",
       "4         615          18.9333           0"
      ]
     },
     "execution_count": 39,
     "metadata": {},
     "output_type": "execute_result"
    }
   ],
   "source": [
    "minutes_watched_2021_paid_0.head()"
   ]
  },
  {
   "cell_type": "code",
   "execution_count": 40,
   "id": "a44869b0",
   "metadata": {
    "ExecuteTime": {
     "end_time": "2024-02-05T08:55:47.138240Z",
     "start_time": "2024-02-05T08:55:47.117234Z"
    }
   },
   "outputs": [
    {
     "data": {
      "text/html": [
       "<div>\n",
       "<style scoped>\n",
       "    .dataframe tbody tr th:only-of-type {\n",
       "        vertical-align: middle;\n",
       "    }\n",
       "\n",
       "    .dataframe tbody tr th {\n",
       "        vertical-align: top;\n",
       "    }\n",
       "\n",
       "    .dataframe thead th {\n",
       "        text-align: right;\n",
       "    }\n",
       "</style>\n",
       "<table border=\"1\" class=\"dataframe\">\n",
       "  <thead>\n",
       "    <tr style=\"text-align: right;\">\n",
       "      <th></th>\n",
       "      <th>student_id</th>\n",
       "      <th>minutes_watched</th>\n",
       "      <th>paid_in_q2</th>\n",
       "    </tr>\n",
       "  </thead>\n",
       "  <tbody>\n",
       "    <tr>\n",
       "      <th>0</th>\n",
       "      <td>67</td>\n",
       "      <td>27.0333</td>\n",
       "      <td>0</td>\n",
       "    </tr>\n",
       "    <tr>\n",
       "      <th>1</th>\n",
       "      <td>560</td>\n",
       "      <td>1.2167</td>\n",
       "      <td>0</td>\n",
       "    </tr>\n",
       "    <tr>\n",
       "      <th>2</th>\n",
       "      <td>1520</td>\n",
       "      <td>2.1000</td>\n",
       "      <td>0</td>\n",
       "    </tr>\n",
       "    <tr>\n",
       "      <th>3</th>\n",
       "      <td>1907</td>\n",
       "      <td>4.6833</td>\n",
       "      <td>0</td>\n",
       "    </tr>\n",
       "    <tr>\n",
       "      <th>4</th>\n",
       "      <td>2759</td>\n",
       "      <td>0.2500</td>\n",
       "      <td>0</td>\n",
       "    </tr>\n",
       "  </tbody>\n",
       "</table>\n",
       "</div>"
      ],
      "text/plain": [
       "   student_id  minutes_watched  paid_in_q2\n",
       "0          67          27.0333           0\n",
       "1         560           1.2167           0\n",
       "2        1520           2.1000           0\n",
       "3        1907           4.6833           0\n",
       "4        2759           0.2500           0"
      ]
     },
     "execution_count": 40,
     "metadata": {},
     "output_type": "execute_result"
    }
   ],
   "source": [
    "minutes_watched_2022_paid_0.head()"
   ]
  },
  {
   "cell_type": "code",
   "execution_count": 41,
   "id": "9dba12d8",
   "metadata": {
    "ExecuteTime": {
     "end_time": "2024-02-05T08:55:47.280868Z",
     "start_time": "2024-02-05T08:55:47.264865Z"
    }
   },
   "outputs": [
    {
     "data": {
      "text/html": [
       "<div>\n",
       "<style scoped>\n",
       "    .dataframe tbody tr th:only-of-type {\n",
       "        vertical-align: middle;\n",
       "    }\n",
       "\n",
       "    .dataframe tbody tr th {\n",
       "        vertical-align: top;\n",
       "    }\n",
       "\n",
       "    .dataframe thead th {\n",
       "        text-align: right;\n",
       "    }\n",
       "</style>\n",
       "<table border=\"1\" class=\"dataframe\">\n",
       "  <thead>\n",
       "    <tr style=\"text-align: right;\">\n",
       "      <th></th>\n",
       "      <th>student_id</th>\n",
       "      <th>minutes_watched</th>\n",
       "      <th>paid_in_q2</th>\n",
       "    </tr>\n",
       "  </thead>\n",
       "  <tbody>\n",
       "    <tr>\n",
       "      <th>0</th>\n",
       "      <td>6</td>\n",
       "      <td>162.0667</td>\n",
       "      <td>1</td>\n",
       "    </tr>\n",
       "    <tr>\n",
       "      <th>1</th>\n",
       "      <td>516</td>\n",
       "      <td>92.5333</td>\n",
       "      <td>1</td>\n",
       "    </tr>\n",
       "    <tr>\n",
       "      <th>2</th>\n",
       "      <td>520</td>\n",
       "      <td>182.3667</td>\n",
       "      <td>1</td>\n",
       "    </tr>\n",
       "    <tr>\n",
       "      <th>3</th>\n",
       "      <td>523</td>\n",
       "      <td>1322.2500</td>\n",
       "      <td>1</td>\n",
       "    </tr>\n",
       "    <tr>\n",
       "      <th>4</th>\n",
       "      <td>594</td>\n",
       "      <td>3.7333</td>\n",
       "      <td>1</td>\n",
       "    </tr>\n",
       "  </tbody>\n",
       "</table>\n",
       "</div>"
      ],
      "text/plain": [
       "   student_id  minutes_watched  paid_in_q2\n",
       "0           6         162.0667           1\n",
       "1         516          92.5333           1\n",
       "2         520         182.3667           1\n",
       "3         523        1322.2500           1\n",
       "4         594           3.7333           1"
      ]
     },
     "execution_count": 41,
     "metadata": {},
     "output_type": "execute_result"
    }
   ],
   "source": [
    "minutes_watched_2021_paid_1.head()"
   ]
  },
  {
   "cell_type": "code",
   "execution_count": 42,
   "id": "629a7daa",
   "metadata": {
    "ExecuteTime": {
     "end_time": "2024-02-05T08:55:47.453968Z",
     "start_time": "2024-02-05T08:55:47.444966Z"
    }
   },
   "outputs": [
    {
     "data": {
      "text/html": [
       "<div>\n",
       "<style scoped>\n",
       "    .dataframe tbody tr th:only-of-type {\n",
       "        vertical-align: middle;\n",
       "    }\n",
       "\n",
       "    .dataframe tbody tr th {\n",
       "        vertical-align: top;\n",
       "    }\n",
       "\n",
       "    .dataframe thead th {\n",
       "        text-align: right;\n",
       "    }\n",
       "</style>\n",
       "<table border=\"1\" class=\"dataframe\">\n",
       "  <thead>\n",
       "    <tr style=\"text-align: right;\">\n",
       "      <th></th>\n",
       "      <th>student_id</th>\n",
       "      <th>minutes_watched</th>\n",
       "      <th>paid_in_q2</th>\n",
       "    </tr>\n",
       "  </thead>\n",
       "  <tbody>\n",
       "    <tr>\n",
       "      <th>0</th>\n",
       "      <td>6</td>\n",
       "      <td>134.1667</td>\n",
       "      <td>1</td>\n",
       "    </tr>\n",
       "    <tr>\n",
       "      <th>1</th>\n",
       "      <td>389</td>\n",
       "      <td>0.1500</td>\n",
       "      <td>1</td>\n",
       "    </tr>\n",
       "    <tr>\n",
       "      <th>2</th>\n",
       "      <td>616</td>\n",
       "      <td>464.0667</td>\n",
       "      <td>1</td>\n",
       "    </tr>\n",
       "    <tr>\n",
       "      <th>3</th>\n",
       "      <td>618</td>\n",
       "      <td>1667.0500</td>\n",
       "      <td>1</td>\n",
       "    </tr>\n",
       "    <tr>\n",
       "      <th>4</th>\n",
       "      <td>666</td>\n",
       "      <td>2.8333</td>\n",
       "      <td>1</td>\n",
       "    </tr>\n",
       "  </tbody>\n",
       "</table>\n",
       "</div>"
      ],
      "text/plain": [
       "   student_id  minutes_watched  paid_in_q2\n",
       "0           6         134.1667           1\n",
       "1         389           0.1500           1\n",
       "2         616         464.0667           1\n",
       "3         618        1667.0500           1\n",
       "4         666           2.8333           1"
      ]
     },
     "execution_count": 42,
     "metadata": {},
     "output_type": "execute_result"
    }
   ],
   "source": [
    "minutes_watched_2022_paid_1.head()"
   ]
  },
  {
   "cell_type": "markdown",
   "id": "dc4c0c70",
   "metadata": {},
   "source": [
    "## Verificando distribuição do tempo assistido"
   ]
  },
  {
   "cell_type": "code",
   "execution_count": 43,
   "id": "6268364c",
   "metadata": {
    "ExecuteTime": {
     "end_time": "2024-02-05T08:55:48.835212Z",
     "start_time": "2024-02-05T08:55:47.788971Z"
    }
   },
   "outputs": [
    {
     "data": {
      "image/png": "[encoded data removed]",
      "text/plain": [
       "<Figure size 1200x600 with 4 Axes>"
      ]
     },
     "metadata": {},
     "output_type": "display_data"
    }
   ],
   "source": [
    "# Configurar o estilo do seaborn\n",
    "sns.set(style=\"whitegrid\")\n",
    "\n",
    "# Plotar os gráficos\n",
    "plt.figure(figsize=(12, 6))\n",
    "\n",
    "# Primeiro subplot\n",
    "plt.subplot(2, 2, 1)\n",
    "sns.kdeplot(data=minutes_watched_2021_paid_0['minutes_watched'], fill=True, color=\"r\")\n",
    "plt.title('Distribuição caso 0 ano 2021')\n",
    "\n",
    "# Segundo subplot\n",
    "plt.subplot(2, 2, 2)\n",
    "sns.kdeplot(data=minutes_watched_2021_paid_1['minutes_watched'], fill=True, color=\"g\")\n",
    "plt.title('Distribuição caso 1 ano 2021')\n",
    "\n",
    "# Terceiro subplot\n",
    "plt.subplot(2, 2, 3)\n",
    "sns.kdeplot(data=minutes_watched_2022_paid_0['minutes_watched'], fill=True, color=\"b\")\n",
    "plt.title('Distribuição caso 0 ano 2022')\n",
    "\n",
    "# Quarto subplot\n",
    "plt.subplot(2, 2, 4)\n",
    "sns.kdeplot(data=minutes_watched_2022_paid_1['minutes_watched'], fill=True, color=\"y\")\n",
    "plt.title('Distribuição caso 1 ano 2022')\n",
    "\n",
    "plt.tight_layout()\n",
    "plt.show()\n"
   ]
  },
  {
   "cell_type": "markdown",
   "id": "d89caaab",
   "metadata": {},
   "source": [
    "Nos 4 casos a distribuição de dados dos minutos assistidos(minutes_watched) mostra-se uma normal com cauda para direita, ou seja o caso em que a média é maior que a mediana, esse efeito provavelmente é causado por pertencimento de outliers "
   ]
  },
  {
   "cell_type": "code",
   "execution_count": 44,
   "id": "6099bc5e",
   "metadata": {
    "ExecuteTime": {
     "end_time": "2024-02-05T08:55:48.883303Z",
     "start_time": "2024-02-05T08:55:48.869300Z"
    }
   },
   "outputs": [
    {
     "data": {
      "text/plain": [
       "count    5185.000000\n",
       "mean       16.622260\n",
       "std        44.242401\n",
       "min         0.033300\n",
       "25%         0.416700\n",
       "50%         2.816700\n",
       "75%        16.000000\n",
       "max      1317.533300\n",
       "Name: minutes_watched, dtype: float64"
      ]
     },
     "execution_count": 44,
     "metadata": {},
     "output_type": "execute_result"
    }
   ],
   "source": [
    "minutes_watched_2021_paid_0['minutes_watched'].describe()"
   ]
  },
  {
   "cell_type": "code",
   "execution_count": 45,
   "id": "4af934e4",
   "metadata": {
    "ExecuteTime": {
     "end_time": "2024-02-05T08:55:49.550125Z",
     "start_time": "2024-02-05T08:55:49.542124Z"
    }
   },
   "outputs": [
    {
     "data": {
      "text/plain": [
       "count     2454.000000\n",
       "mean       891.120403\n",
       "std       2098.673291\n",
       "min          0.050000\n",
       "25%         40.562525\n",
       "50%        259.108300\n",
       "75%        847.437525\n",
       "max      30265.200000\n",
       "Name: minutes_watched, dtype: float64"
      ]
     },
     "execution_count": 45,
     "metadata": {},
     "output_type": "execute_result"
    }
   ],
   "source": [
    "minutes_watched_2021_paid_1['minutes_watched'].describe()"
   ]
  },
  {
   "cell_type": "code",
   "execution_count": 46,
   "id": "8450a847",
   "metadata": {
    "ExecuteTime": {
     "end_time": "2024-02-05T08:55:49.884201Z",
     "start_time": "2024-02-05T08:55:49.870197Z"
    }
   },
   "outputs": [
    {
     "data": {
      "text/plain": [
       "count    5950.000000\n",
       "mean       18.408028\n",
       "std        40.135728\n",
       "min         0.033300\n",
       "25%         0.850000\n",
       "50%         5.108350\n",
       "75%        21.795825\n",
       "max      1426.666700\n",
       "Name: minutes_watched, dtype: float64"
      ]
     },
     "execution_count": 46,
     "metadata": {},
     "output_type": "execute_result"
    }
   ],
   "source": [
    "minutes_watched_2022_paid_0['minutes_watched'].describe()"
   ]
  },
  {
   "cell_type": "code",
   "execution_count": 47,
   "id": "ea8ed749",
   "metadata": {
    "ExecuteTime": {
     "end_time": "2024-02-05T08:55:50.894121Z",
     "start_time": "2024-02-05T08:55:50.886119Z"
    }
   },
   "outputs": [
    {
     "data": {
      "text/plain": [
       "count     2891.000000\n",
       "mean       495.954687\n",
       "std       1055.035249\n",
       "min          0.050000\n",
       "25%         34.691700\n",
       "50%        144.916700\n",
       "75%        492.966700\n",
       "max      12866.666700\n",
       "Name: minutes_watched, dtype: float64"
      ]
     },
     "execution_count": 47,
     "metadata": {},
     "output_type": "execute_result"
    }
   ],
   "source": [
    "minutes_watched_2022_paid_1['minutes_watched'].describe()"
   ]
  },
  {
   "cell_type": "markdown",
   "id": "b4f2e2bd",
   "metadata": {},
   "source": [
    " Confirmando para os valores numéricos a média de todas as distribuições se encontra no terceiro quartil(correspondente a coluna de 75%) e o valor máximo de cada coluna está em um número bem maior que a média."
   ]
  },
  {
   "cell_type": "markdown",
   "id": "f9e1cec3",
   "metadata": {},
   "source": [
    "## Removendo outliers\n",
    "A partir do EDA feito, mostrou-se necessário realizar a retirada de outliers para fazer uma análise com esses dados(complementar depois)"
   ]
  },
  {
   "cell_type": "code",
   "execution_count": 48,
   "id": "a8b730bd",
   "metadata": {
    "ExecuteTime": {
     "end_time": "2024-02-05T08:55:52.848978Z",
     "start_time": "2024-02-05T08:55:52.835968Z"
    }
   },
   "outputs": [],
   "source": [
    "# Definir uma função para retirar os dados de forma a manter somente até 0 99percentil\n",
    "def remocao_outlier(df, column_name):\n",
    "    # Calcular o 99 percentil da coluna\n",
    "    percentile_99 = df[column_name].quantile(0.99)\n",
    "    # Filtrar do conjunto de dados\n",
    "    df_filtered = df[df[column_name] <= percentile_99]\n",
    "    return df_filtered\n"
   ]
  },
  {
   "cell_type": "code",
   "execution_count": 49,
   "id": "dafc6ada",
   "metadata": {
    "ExecuteTime": {
     "end_time": "2024-02-05T08:55:53.397124Z",
     "start_time": "2024-02-05T08:55:53.377152Z"
    }
   },
   "outputs": [],
   "source": [
    "minutes_watched_2021_paid_0_no_outliers = remocao_outlier(minutes_watched_2021_paid_0,\"minutes_watched\")\n",
    "minutes_watched_2021_paid_1_no_outliers = remocao_outlier(minutes_watched_2021_paid_1,\"minutes_watched\")\n",
    "minutes_watched_2022_paid_0_no_outliers = remocao_outlier(minutes_watched_2022_paid_0,\"minutes_watched\")\n",
    "minutes_watched_2022_paid_1_no_outliers = remocao_outlier(minutes_watched_2022_paid_1,\"minutes_watched\")"
   ]
  },
  {
   "cell_type": "markdown",
   "id": "d0ea127f",
   "metadata": {},
   "source": [
    "## Passando os dados ajustados para csv"
   ]
  },
  {
   "cell_type": "code",
   "execution_count": 54,
   "id": "8b07b623",
   "metadata": {
    "ExecuteTime": {
     "end_time": "2024-02-05T11:40:13.345179Z",
     "start_time": "2024-02-05T11:40:13.323175Z"
    }
   },
   "outputs": [
    {
     "data": {
      "text/html": [
       "<div>\n",
       "<style scoped>\n",
       "    .dataframe tbody tr th:only-of-type {\n",
       "        vertical-align: middle;\n",
       "    }\n",
       "\n",
       "    .dataframe tbody tr th {\n",
       "        vertical-align: top;\n",
       "    }\n",
       "\n",
       "    .dataframe thead th {\n",
       "        text-align: right;\n",
       "    }\n",
       "</style>\n",
       "<table border=\"1\" class=\"dataframe\">\n",
       "  <thead>\n",
       "    <tr style=\"text-align: right;\">\n",
       "      <th></th>\n",
       "      <th>student_id</th>\n",
       "      <th>minutes_watched</th>\n",
       "      <th>paid_in_q2</th>\n",
       "    </tr>\n",
       "  </thead>\n",
       "  <tbody>\n",
       "    <tr>\n",
       "      <th>count</th>\n",
       "      <td>5133.000000</td>\n",
       "      <td>5133.000000</td>\n",
       "      <td>5133.0</td>\n",
       "    </tr>\n",
       "    <tr>\n",
       "      <th>mean</th>\n",
       "      <td>134416.020846</td>\n",
       "      <td>13.646802</td>\n",
       "      <td>0.0</td>\n",
       "    </tr>\n",
       "    <tr>\n",
       "      <th>std</th>\n",
       "      <td>44774.944162</td>\n",
       "      <td>23.142448</td>\n",
       "      <td>0.0</td>\n",
       "    </tr>\n",
       "    <tr>\n",
       "      <th>min</th>\n",
       "      <td>9.000000</td>\n",
       "      <td>0.033300</td>\n",
       "      <td>0.0</td>\n",
       "    </tr>\n",
       "    <tr>\n",
       "      <th>25%</th>\n",
       "      <td>148529.000000</td>\n",
       "      <td>0.416700</td>\n",
       "      <td>0.0</td>\n",
       "    </tr>\n",
       "    <tr>\n",
       "      <th>50%</th>\n",
       "      <td>151601.000000</td>\n",
       "      <td>2.716700</td>\n",
       "      <td>0.0</td>\n",
       "    </tr>\n",
       "    <tr>\n",
       "      <th>75%</th>\n",
       "      <td>155391.000000</td>\n",
       "      <td>14.833300</td>\n",
       "      <td>0.0</td>\n",
       "    </tr>\n",
       "    <tr>\n",
       "      <th>max</th>\n",
       "      <td>158768.000000</td>\n",
       "      <td>146.033300</td>\n",
       "      <td>0.0</td>\n",
       "    </tr>\n",
       "  </tbody>\n",
       "</table>\n",
       "</div>"
      ],
      "text/plain": [
       "          student_id  minutes_watched  paid_in_q2\n",
       "count    5133.000000      5133.000000      5133.0\n",
       "mean   134416.020846        13.646802         0.0\n",
       "std     44774.944162        23.142448         0.0\n",
       "min         9.000000         0.033300         0.0\n",
       "25%    148529.000000         0.416700         0.0\n",
       "50%    151601.000000         2.716700         0.0\n",
       "75%    155391.000000        14.833300         0.0\n",
       "max    158768.000000       146.033300         0.0"
      ]
     },
     "execution_count": 54,
     "metadata": {},
     "output_type": "execute_result"
    }
   ],
   "source": [
    "minutes_watched_2021_paid_0_no_outliers.describe()"
   ]
  },
  {
   "cell_type": "code",
   "execution_count": 52,
   "id": "5b7a0bbf",
   "metadata": {
    "ExecuteTime": {
     "end_time": "2024-02-05T09:02:58.874145Z",
     "start_time": "2024-02-05T09:02:58.836639Z"
    }
   },
   "outputs": [],
   "source": [
    "minutes_watched_2021_paid_0_no_outliers.to_csv(r'database\\minutes_watched_2021_paid_0_no_outliers.csv', index=False)\n",
    "minutes_watched_2022_paid_0_no_outliers.to_csv(r'database\\minutes_watched_2022_paid_0_no_outliers.csv', index=False)\n",
    "minutes_watched_2021_paid_1_no_outliers.to_csv(r'database\\minutes_watched_2021_paid_1_no_outliers.csv', index=False)\n",
    "minutes_watched_2022_paid_1_no_outliers.to_csv(r'database\\minutes_watched_2022_paid_1_no_outliers.csv', index=False)"
   ]
  },
  {
   "cell_type": "code",
   "execution_count": null,
   "id": "2f6cec21",
   "metadata": {},
   "outputs": [],
   "source": []
  }
 ],
 "metadata": {
  "kernelspec": {
   "display_name": "Python 3 (ipykernel)",
   "language": "python",
   "name": "python3"
  },
  "language_info": {
   "codemirror_mode": {
    "name": "ipython",
    "version": 3
   },
   "file_extension": ".py",
   "mimetype": "text/x-python",
   "name": "python",
   "nbconvert_exporter": "python",
   "pygments_lexer": "ipython3",
   "version": "3.8.17"
  },
  "varInspector": {
   "cols": {
    "lenName": 16,
    "lenType": 16,
    "lenVar": 40
   },
   "kernels_config": {
    "python": {
     "delete_cmd_postfix": "",
     "delete_cmd_prefix": "del ",
     "library": "var_list.py",
     "varRefreshCmd": "print(var_dic_list())"
    },
    "r": {
     "delete_cmd_postfix": ") ",
     "delete_cmd_prefix": "rm(",
     "library": "var_list.r",
     "varRefreshCmd": "cat(var_dic_list()) "
    }
   },
   "types_to_exclude": [
    "module",
    "function",
    "builtin_function_or_method",
    "instance",
    "_Feature"
   ],
   "window_display": false
  }
 },
 "nbformat": 4,
 "nbformat_minor": 5
}
