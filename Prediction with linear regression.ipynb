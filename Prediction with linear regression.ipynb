{
 "cells": [
  {
   "cell_type": "code",
   "execution_count": 10,
   "id": "959208c3",
   "metadata": {
    "ExecuteTime": {
     "end_time": "2024-02-07T12:40:30.146871Z",
     "start_time": "2024-02-07T12:40:29.578495Z"
    }
   },
   "outputs": [],
   "source": [
    "import pandas as pd\n",
    "import seaborn as sns\n",
    "import matplotlib.pyplot as plt\n",
    "from sklearn.linear_model import LinearRegression\n",
    "from sklearn.model_selection import train_test_split"
   ]
  },
  {
   "cell_type": "code",
   "execution_count": null,
   "id": "8d3fa646",
   "metadata": {},
   "outputs": [],
   "source": [
    "from sklearn.linear_model import LinearRegression\n",
    "from sklearn.model_selection import train_test_split\n"
   ]
  },
  {
   "cell_type": "markdown",
   "id": "891260e1",
   "metadata": {},
   "source": [
    "## Conjunto de dados"
   ]
  },
  {
   "cell_type": "code",
   "execution_count": 5,
   "id": "b5149c46",
   "metadata": {
    "ExecuteTime": {
     "end_time": "2024-02-07T12:22:42.643665Z",
     "start_time": "2024-02-07T12:22:42.619000Z"
    }
   },
   "outputs": [],
   "source": [
    "minutes_certificates = pd.read_csv(r'database\\pre_minutes_and_certificates.csv')"
   ]
  },
  {
   "cell_type": "code",
   "execution_count": 6,
   "id": "3c4a8b9f",
   "metadata": {
    "ExecuteTime": {
     "end_time": "2024-02-07T12:23:07.275415Z",
     "start_time": "2024-02-07T12:23:07.257412Z"
    }
   },
   "outputs": [
    {
     "data": {
      "text/html": [
       "<div>\n",
       "<style scoped>\n",
       "    .dataframe tbody tr th:only-of-type {\n",
       "        vertical-align: middle;\n",
       "    }\n",
       "\n",
       "    .dataframe tbody tr th {\n",
       "        vertical-align: top;\n",
       "    }\n",
       "\n",
       "    .dataframe thead th {\n",
       "        text-align: right;\n",
       "    }\n",
       "</style>\n",
       "<table border=\"1\" class=\"dataframe\">\n",
       "  <thead>\n",
       "    <tr style=\"text-align: right;\">\n",
       "      <th></th>\n",
       "      <th>student_id</th>\n",
       "      <th>certificates_issued</th>\n",
       "      <th>minutes_watched</th>\n",
       "    </tr>\n",
       "  </thead>\n",
       "  <tbody>\n",
       "    <tr>\n",
       "      <th>0</th>\n",
       "      <td>4640</td>\n",
       "      <td>1</td>\n",
       "      <td>586.8000</td>\n",
       "    </tr>\n",
       "    <tr>\n",
       "      <th>1</th>\n",
       "      <td>5836</td>\n",
       "      <td>3</td>\n",
       "      <td>1903.1167</td>\n",
       "    </tr>\n",
       "    <tr>\n",
       "      <th>2</th>\n",
       "      <td>9754</td>\n",
       "      <td>1</td>\n",
       "      <td>702.7667</td>\n",
       "    </tr>\n",
       "    <tr>\n",
       "      <th>3</th>\n",
       "      <td>801</td>\n",
       "      <td>13</td>\n",
       "      <td>6066.0000</td>\n",
       "    </tr>\n",
       "    <tr>\n",
       "      <th>4</th>\n",
       "      <td>2022</td>\n",
       "      <td>1</td>\n",
       "      <td>115.3667</td>\n",
       "    </tr>\n",
       "  </tbody>\n",
       "</table>\n",
       "</div>"
      ],
      "text/plain": [
       "   student_id  certificates_issued  minutes_watched\n",
       "0        4640                    1         586.8000\n",
       "1        5836                    3        1903.1167\n",
       "2        9754                    1         702.7667\n",
       "3         801                   13        6066.0000\n",
       "4        2022                    1         115.3667"
      ]
     },
     "execution_count": 6,
     "metadata": {},
     "output_type": "execute_result"
    }
   ],
   "source": [
    "minutes_certificates.head()"
   ]
  },
  {
   "cell_type": "code",
   "execution_count": 8,
   "id": "0fb5d912",
   "metadata": {
    "ExecuteTime": {
     "end_time": "2024-02-07T12:25:13.753042Z",
     "start_time": "2024-02-07T12:25:13.737039Z"
    }
   },
   "outputs": [],
   "source": [
    "## Separando em variables e target\n",
    "y = minutes_certificates[\"certificates_issued\"].copy()\n",
    "x = minutes_certificates[\"minutes_watched\"].copy()"
   ]
  },
  {
   "cell_type": "code",
   "execution_count": 11,
   "id": "a94dd6fd",
   "metadata": {
    "ExecuteTime": {
     "end_time": "2024-02-07T12:40:31.535986Z",
     "start_time": "2024-02-07T12:40:31.527985Z"
    }
   },
   "outputs": [],
   "source": [
    "# Divida os dados em conjuntos de treinamento e teste\n",
    "X_train, X_test, y_train, y_test = train_test_split(x, y, test_size=0.2, random_state=365)"
   ]
  },
  {
   "cell_type": "markdown",
   "id": "edbd41bb",
   "metadata": {},
   "source": [
    "## Remodelando os inputs para numpy"
   ]
  },
  {
   "cell_type": "code",
   "execution_count": 12,
   "id": "d9bd9e8a",
   "metadata": {
    "ExecuteTime": {
     "end_time": "2024-02-07T12:52:16.782671Z",
     "start_time": "2024-02-07T12:52:16.765707Z"
    }
   },
   "outputs": [
    {
     "name": "stdout",
     "output_type": "stream",
     "text": [
      "Shape of X_train before reshaping: (526,)\n",
      "Shape of X_test before reshaping: (132,)\n",
      "Shape of X_train after reshaping: (526, 1)\n",
      "Shape of X_test after reshaping: (132, 1)\n"
     ]
    }
   ],
   "source": [
    "# Converta X_train e X_test para matrizes NumPy\n",
    "X_train = np.array(X_train)\n",
    "X_test = np.array(X_test)\n",
    "\n",
    "# Verifique as formas originais dos conjuntos de treinamento e teste\n",
    "print(\"Shape of X_train before reshaping:\", X_train.shape)\n",
    "print(\"Shape of X_test before reshaping:\", X_test.shape)\n",
    "\n",
    "# Remodele os conjuntos de treinamento e teste para terem uma única característica\n",
    "# Suponha que seus dados tenham originalmente a forma (n_samples,)\n",
    "\n",
    "# Remodelando os dados de treinamento\n",
    "X_train = X_train.reshape(-1, 1)\n",
    "\n",
    "# Remodelando os dados de teste\n",
    "X_test = X_test.reshape(-1, 1)\n",
    "\n",
    "# Verifique as formas dos conjuntos de treinamento e teste após a remodelagem\n",
    "print(\"Shape of X_train after reshaping:\", X_train.shape)\n",
    "print(\"Shape of X_test after reshaping:\", X_test.shape)"
   ]
  },
  {
   "cell_type": "markdown",
   "id": "649c4f2d",
   "metadata": {},
   "source": [
    "## Modelo - regressão linear"
   ]
  },
  {
   "cell_type": "code",
   "execution_count": 13,
   "id": "44f755d2",
   "metadata": {
    "ExecuteTime": {
     "end_time": "2024-02-07T12:57:42.711287Z",
     "start_time": "2024-02-07T12:57:42.621267Z"
    }
   },
   "outputs": [
    {
     "data": {
      "text/html": [
       "<style>#sk-container-id-1 {color: black;}#sk-container-id-1 pre{padding: 0;}#sk-container-id-1 div.sk-toggleable {background-color: white;}#sk-container-id-1 label.sk-toggleable__label {cursor: pointer;display: block;width: 100%;margin-bottom: 0;padding: 0.3em;box-sizing: border-box;text-align: center;}#sk-container-id-1 label.sk-toggleable__label-arrow:before {content: \"▸\";float: left;margin-right: 0.25em;color: #696969;}#sk-container-id-1 label.sk-toggleable__label-arrow:hover:before {color: black;}#sk-container-id-1 div.sk-estimator:hover label.sk-toggleable__label-arrow:before {color: black;}#sk-container-id-1 div.sk-toggleable__content {max-height: 0;max-width: 0;overflow: hidden;text-align: left;background-color: #f0f8ff;}#sk-container-id-1 div.sk-toggleable__content pre {margin: 0.2em;color: black;border-radius: 0.25em;background-color: #f0f8ff;}#sk-container-id-1 input.sk-toggleable__control:checked~div.sk-toggleable__content {max-height: 200px;max-width: 100%;overflow: auto;}#sk-container-id-1 input.sk-toggleable__control:checked~label.sk-toggleable__label-arrow:before {content: \"▾\";}#sk-container-id-1 div.sk-estimator input.sk-toggleable__control:checked~label.sk-toggleable__label {background-color: #d4ebff;}#sk-container-id-1 div.sk-label input.sk-toggleable__control:checked~label.sk-toggleable__label {background-color: #d4ebff;}#sk-container-id-1 input.sk-hidden--visually {border: 0;clip: rect(1px 1px 1px 1px);clip: rect(1px, 1px, 1px, 1px);height: 1px;margin: -1px;overflow: hidden;padding: 0;position: absolute;width: 1px;}#sk-container-id-1 div.sk-estimator {font-family: monospace;background-color: #f0f8ff;border: 1px dotted black;border-radius: 0.25em;box-sizing: border-box;margin-bottom: 0.5em;}#sk-container-id-1 div.sk-estimator:hover {background-color: #d4ebff;}#sk-container-id-1 div.sk-parallel-item::after {content: \"\";width: 100%;border-bottom: 1px solid gray;flex-grow: 1;}#sk-container-id-1 div.sk-label:hover label.sk-toggleable__label {background-color: #d4ebff;}#sk-container-id-1 div.sk-serial::before {content: \"\";position: absolute;border-left: 1px solid gray;box-sizing: border-box;top: 0;bottom: 0;left: 50%;z-index: 0;}#sk-container-id-1 div.sk-serial {display: flex;flex-direction: column;align-items: center;background-color: white;padding-right: 0.2em;padding-left: 0.2em;position: relative;}#sk-container-id-1 div.sk-item {position: relative;z-index: 1;}#sk-container-id-1 div.sk-parallel {display: flex;align-items: stretch;justify-content: center;background-color: white;position: relative;}#sk-container-id-1 div.sk-item::before, #sk-container-id-1 div.sk-parallel-item::before {content: \"\";position: absolute;border-left: 1px solid gray;box-sizing: border-box;top: 0;bottom: 0;left: 50%;z-index: -1;}#sk-container-id-1 div.sk-parallel-item {display: flex;flex-direction: column;z-index: 1;position: relative;background-color: white;}#sk-container-id-1 div.sk-parallel-item:first-child::after {align-self: flex-end;width: 50%;}#sk-container-id-1 div.sk-parallel-item:last-child::after {align-self: flex-start;width: 50%;}#sk-container-id-1 div.sk-parallel-item:only-child::after {width: 0;}#sk-container-id-1 div.sk-dashed-wrapped {border: 1px dashed gray;margin: 0 0.4em 0.5em 0.4em;box-sizing: border-box;padding-bottom: 0.4em;background-color: white;}#sk-container-id-1 div.sk-label label {font-family: monospace;font-weight: bold;display: inline-block;line-height: 1.2em;}#sk-container-id-1 div.sk-label-container {text-align: center;}#sk-container-id-1 div.sk-container {/* jupyter's `normalize.less` sets `[hidden] { display: none; }` but bootstrap.min.css set `[hidden] { display: none !important; }` so we also need the `!important` here to be able to override the default hidden behavior on the sphinx rendered scikit-learn.org. See: https://github.com/scikit-learn/scikit-learn/issues/21755 */display: inline-block !important;position: relative;}#sk-container-id-1 div.sk-text-repr-fallback {display: none;}</style><div id=\"sk-container-id-1\" class=\"sk-top-container\"><div class=\"sk-text-repr-fallback\"><pre>LinearRegression()</pre><b>In a Jupyter environment, please rerun this cell to show the HTML representation or trust the notebook. <br />On GitHub, the HTML representation is unable to render, please try loading this page with nbviewer.org.</b></div><div class=\"sk-container\" hidden><div class=\"sk-item\"><div class=\"sk-estimator sk-toggleable\"><input class=\"sk-toggleable__control sk-hidden--visually\" id=\"sk-estimator-id-1\" type=\"checkbox\" checked><label for=\"sk-estimator-id-1\" class=\"sk-toggleable__label sk-toggleable__label-arrow\">LinearRegression</label><div class=\"sk-toggleable__content\"><pre>LinearRegression()</pre></div></div></div></div></div>"
      ],
      "text/plain": [
       "LinearRegression()"
      ]
     },
     "execution_count": 13,
     "metadata": {},
     "output_type": "execute_result"
    }
   ],
   "source": [
    "# Crie uma instância do modelo de regressão linear\n",
    "model = LinearRegression()\n",
    "\n",
    "# Treine o modelo nos dados de treinamento\n",
    "model.fit(X_train, y_train)"
   ]
  },
  {
   "cell_type": "code",
   "execution_count": 14,
   "id": "2af74756",
   "metadata": {
    "ExecuteTime": {
     "end_time": "2024-02-07T12:58:36.568239Z",
     "start_time": "2024-02-07T12:58:36.559237Z"
    }
   },
   "outputs": [
    {
     "name": "stdout",
     "output_type": "stream",
     "text": [
      "Slope (m): 0.001737848557308414\n",
      "Intercept (b): 1.086468692665501\n",
      "Linear equation: y = 0.001737848557308414 x + 1.086468692665501\n"
     ]
    }
   ],
   "source": [
    "# Obtenha o coeficiente angular (slope) do modelo\n",
    "slope = model.coef_[0]\n",
    "\n",
    "# Obtenha o intercepto y (y-intercept) do modelo\n",
    "intercept = model.intercept_\n",
    "\n",
    "# Imprima os valores do coeficiente angular (slope) e do intercepto y (y-intercept)\n",
    "print(\"Slope (m):\", slope)\n",
    "print(\"Intercept (b):\", intercept)\n",
    "\n",
    "# Exiba a equação linear do modelo\n",
    "print(\"Linear equation: y =\", slope, \"x +\", intercept)\n"
   ]
  },
  {
   "cell_type": "code",
   "execution_count": 15,
   "id": "6d2cca86",
   "metadata": {
    "ExecuteTime": {
     "end_time": "2024-02-07T12:59:17.474394Z",
     "start_time": "2024-02-07T12:59:17.462392Z"
    }
   },
   "outputs": [
    {
     "name": "stdout",
     "output_type": "stream",
     "text": [
      "R-squared: 0.202949731499372\n"
     ]
    }
   ],
   "source": [
    "# Calcule o R-quadrado dos dados de teste\n",
    "r_squared = model.score(X_test, y_test)\n",
    "\n",
    "print(\"R-squared:\", r_squared)\n",
    "\n"
   ]
  },
  {
   "cell_type": "code",
   "execution_count": 16,
   "id": "6598a8af",
   "metadata": {
    "ExecuteTime": {
     "end_time": "2024-02-07T13:16:25.782045Z",
     "start_time": "2024-02-07T13:16:25.772043Z"
    }
   },
   "outputs": [],
   "source": [
    "# Faça previsões nos dados de teste\n",
    "y_pred = model.predict(X_test)"
   ]
  },
  {
   "cell_type": "code",
   "execution_count": 17,
   "id": "919969eb",
   "metadata": {
    "ExecuteTime": {
     "end_time": "2024-02-07T13:16:44.021295Z",
     "start_time": "2024-02-07T13:16:43.780049Z"
    }
   },
   "outputs": [
    {
     "data": {
      "image/png": "[encoded data removed]",
      "text/plain": [
       "<Figure size 800x600 with 1 Axes>"
      ]
     },
     "metadata": {},
     "output_type": "display_data"
    }
   ],
   "source": [
    "# Crie um gráfico de dispersão para visualizar as previsões do modelo\n",
    "plt.figure(figsize=(8, 6))\n",
    "plt.scatter(y_test, y_pred, color='blue', alpha=0.5)\n",
    "plt.title('Scatter plot of actual vs predicted values')\n",
    "plt.xlabel('Actual values')\n",
    "plt.ylabel('Predicted values')\n",
    "plt.show()"
   ]
  },
  {
   "cell_type": "code",
   "execution_count": 23,
   "id": "6a165fea",
   "metadata": {
    "ExecuteTime": {
     "end_time": "2024-02-07T13:45:56.244249Z",
     "start_time": "2024-02-07T13:45:56.228246Z"
    }
   },
   "outputs": [
    {
     "name": "stdout",
     "output_type": "stream",
     "text": [
      "[3.17188696]\n"
     ]
    }
   ],
   "source": [
    "# Faça a previsão para o exemplo único\n",
    "dado_predict_unit = np.array([[1200]])\n",
    "single_prediction = model.predict(dado_predict_unit)\n",
    "print(single_prediction)"
   ]
  },
  {
   "cell_type": "code",
   "execution_count": null,
   "id": "2d59cb45",
   "metadata": {},
   "outputs": [],
   "source": []
  }
 ],
 "metadata": {
  "kernelspec": {
   "display_name": "Python 3 (ipykernel)",
   "language": "python",
   "name": "python3"
  },
  "language_info": {
   "codemirror_mode": {
    "name": "ipython",
    "version": 3
   },
   "file_extension": ".py",
   "mimetype": "text/x-python",
   "name": "python",
   "nbconvert_exporter": "python",
   "pygments_lexer": "ipython3",
   "version": "3.8.17"
  },
  "varInspector": {
   "cols": {
    "lenName": 16,
    "lenType": 16,
    "lenVar": 40
   },
   "kernels_config": {
    "python": {
     "delete_cmd_postfix": "",
     "delete_cmd_prefix": "del ",
     "library": "var_list.py",
     "varRefreshCmd": "print(var_dic_list())"
    },
    "r": {
     "delete_cmd_postfix": ") ",
     "delete_cmd_prefix": "rm(",
     "library": "var_list.r",
     "varRefreshCmd": "cat(var_dic_list()) "
    }
   },
   "types_to_exclude": [
    "module",
    "function",
    "builtin_function_or_method",
    "instance",
    "_Feature"
   ],
   "window_display": false
  }
 },
 "nbformat": 4,
 "nbformat_minor": 5
}
